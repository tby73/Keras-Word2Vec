{
 "cells": [
  {
   "attachments": {},
   "cell_type": "markdown",
   "metadata": {},
   "source": [
    "# Word2Vec: How to do text embedding"
   ]
  },
  {
   "attachments": {},
   "cell_type": "markdown",
   "metadata": {},
   "source": [
    "In a SkipGram Model, the NN attempts to predict the context (or neighbors) of a word, given the list itself. <br>\n",
    "The training data consists of skipgrams, which are so called n-grams that allow tokens to be skipped. <br>\n",
    "A word context can be visualized as a set of skipgram pairs of (target_word, context_word), context_word appears in the neighboring context of target_word <br>\n",
    "\n",
    "<strong>Example: The wide road shimmered in the hot sun</strong><br>\n",
    "\n",
    "<strong>Target:</strong> wide <br>\n",
    "<strong>Predictions:</strong> The, road, shimmered <br>"
   ]
  },
  {
   "cell_type": "code",
   "execution_count": 11,
   "metadata": {},
   "outputs": [],
   "source": [
    "import tensorflow as tf\n",
    "import keras\n",
    "import numpy as np\n",
    "import io\n",
    "import tqdm\n",
    "import re\n",
    "import string\n",
    "\n",
    "from keras import layers, utils, Model\n",
    "from keras.preprocessing.sequence import skipgrams"
   ]
  },
  {
   "cell_type": "code",
   "execution_count": 4,
   "metadata": {},
   "outputs": [
    {
     "name": "stdout",
     "output_type": "stream",
     "text": [
      "The tensorboard extension is already loaded. To reload it, use:\n",
      "  %reload_ext tensorboard\n"
     ]
    }
   ],
   "source": [
    "%load_ext tensorboard"
   ]
  },
  {
   "cell_type": "code",
   "execution_count": 5,
   "metadata": {},
   "outputs": [],
   "source": [
    "SEED = 42\n",
    "AUTOTUNE = tf.data.AUTOTUNE"
   ]
  },
  {
   "attachments": {},
   "cell_type": "markdown",
   "metadata": {},
   "source": [
    "### Vectorization of an sample Sentence"
   ]
  },
  {
   "cell_type": "code",
   "execution_count": 13,
   "metadata": {},
   "outputs": [
    {
     "name": "stdout",
     "output_type": "stream",
     "text": [
      "8\n",
      "{'<pad>': 0, 'the': 1, 'wide': 2, 'road': 3, 'shimmered': 4, 'in': 5, 'hot': 6, 'sun': 7}\n",
      "{0: '<pad>', 1: 'the', 2: 'wide', 3: 'road', 4: 'shimmered', 5: 'in', 6: 'hot', 7: 'sun'}\n"
     ]
    }
   ],
   "source": [
    "sentence = \"The wide road shimmered in the hot sun\"\n",
    "tokens = list(sentence.lower().split())\n",
    "print(len(tokens))\n",
    "\n",
    "vocab, index = {}, 1\n",
    "vocab[\"<pad>\"] = 0\n",
    "\n",
    "for token in tokens: \n",
    "    if token not in vocab:\n",
    "        vocab[token] = index\n",
    "        index += 1\n",
    "\n",
    "vocab_size = len(vocab)\n",
    "print(vocab)\n",
    "\n",
    "inverse_vocab = { index: token for token, index in vocab.items() }\n",
    "print(inverse_vocab)"
   ]
  },
  {
   "cell_type": "code",
   "execution_count": 9,
   "metadata": {},
   "outputs": [
    {
     "name": "stdout",
     "output_type": "stream",
     "text": [
      "[1, 2, 3, 4, 5, 1, 6, 7]\n"
     ]
    }
   ],
   "source": [
    "sequence = [vocab[word] for word in tokens]\n",
    "print(sequence)"
   ]
  },
  {
   "attachments": {},
   "cell_type": "markdown",
   "metadata": {},
   "source": [
    "### Generate Skipgrams for the sample sentence"
   ]
  },
  {
   "cell_type": "code",
   "execution_count": 15,
   "metadata": {},
   "outputs": [
    {
     "name": "stdout",
     "output_type": "stream",
     "text": [
      "26\n",
      "(5, 1): (in the)\n",
      "(3, 5): (road in)\n",
      "(5, 6): (in hot)\n",
      "(1, 5): (the in)\n",
      "(1, 3): (the road)\n",
      "(2, 4): (wide shimmered)\n",
      "(5, 3): (in road)\n",
      "(1, 6): (the hot)\n",
      "(2, 1): (wide the)\n",
      "(7, 6): (sun hot)\n",
      "(1, 2): (the wide)\n",
      "(3, 2): (road wide)\n",
      "(4, 1): (shimmered the)\n",
      "(3, 4): (road shimmered)\n",
      "(2, 3): (wide road)\n",
      "(6, 7): (hot sun)\n",
      "(7, 1): (sun the)\n",
      "(4, 2): (shimmered wide)\n",
      "(4, 3): (shimmered road)\n",
      "(1, 4): (the shimmered)\n",
      "(6, 5): (hot in)\n",
      "(6, 1): (hot the)\n",
      "(4, 5): (shimmered in)\n",
      "(5, 4): (in shimmered)\n",
      "(3, 1): (road the)\n",
      "(1, 7): (the sun)\n"
     ]
    }
   ],
   "source": [
    "WINDOW_SIZE = 2\n",
    "\n",
    "positive_skipgrams, _ = skipgrams(sequence=sequence, vocabulary_size=vocab_size, window_size=WINDOW_SIZE, negative_samples=0)\n",
    "print(len(positive_skipgrams))\n",
    "\n",
    "for target, context in positive_skipgrams:\n",
    "    print(f\"({target}, {context}): ({inverse_vocab[target]} {inverse_vocab[context]})\")"
   ]
  },
  {
   "attachments": {},
   "cell_type": "markdown",
   "metadata": {},
   "source": [
    "### Generate Negative Skipgrams"
   ]
  },
  {
   "cell_type": "code",
   "execution_count": 22,
   "metadata": {},
   "outputs": [
    {
     "name": "stdout",
     "output_type": "stream",
     "text": [
      "tf.Tensor([6 3 2 4], shape=(4,), dtype=int64)\n",
      "['hot', 'road', 'wide', 'shimmered']\n"
     ]
    }
   ],
   "source": [
    "target, context = positive_skipgrams[0]\n",
    "num_ns = 4\n",
    "context_class = tf.reshape(tf.constant(context, dtype=\"int64\"), (1, 1))\n",
    "\n",
    "negative_sampling_candidates, _, _ = tf.random.log_uniform_candidate_sampler(\n",
    "    true_classes=context_class,\n",
    "    num_true=1,\n",
    "    num_sampled=num_ns,\n",
    "    unique=True,\n",
    "    range_max=vocab_size,\n",
    "    seed=SEED,\n",
    "    name=\"negative_sampling\"\n",
    ")\n",
    "\n",
    "print(negative_sampling_candidates)\n",
    "print([inverse_vocab[index.numpy()] for index in negative_sampling_candidates])"
   ]
  },
  {
   "attachments": {},
   "cell_type": "markdown",
   "metadata": {},
   "source": [
    "### Construction of 1 Training Set <br>\n",
    "Now, the positive skip grams along with the negative skip grams are being pushed into one Tensor, which will form a single training set. "
   ]
  },
  {
   "cell_type": "code",
   "execution_count": 28,
   "metadata": {},
   "outputs": [
    {
     "name": "stdout",
     "output_type": "stream",
     "text": [
      "Target Index: 5\n",
      "Target Word: in\n",
      "Context Indices: 1\n",
      "Context Words: ['the', 'hot', 'road', 'wide', 'shimmered']\n",
      "Label: [1 0 0 0 0]\n"
     ]
    }
   ],
   "source": [
    "squeezed_context_class = tf.squeeze(context_class, 1)\n",
    "full_context = tf.concat([squeezed_context_class, negative_sampling_candidates], 0)\n",
    "label = tf.constant([1] + [0] * num_ns, dtype=\"int64\")\n",
    "\n",
    "print(f\"Target Index: {target}\")\n",
    "print(f\"Target Word: {inverse_vocab[target]}\")\n",
    "print(f\"Context Indices: {context}\")\n",
    "print(f\"Context Words: {[inverse_vocab[c.numpy()] for c in full_context]}\")\n",
    "print(f\"Label: {label}\")"
   ]
  },
  {
   "attachments": {},
   "cell_type": "markdown",
   "metadata": {},
   "source": [
    "=> Tuple of (target, context, label) makes one training data"
   ]
  },
  {
   "cell_type": "code",
   "execution_count": 26,
   "metadata": {},
   "outputs": [
    {
     "name": "stdout",
     "output_type": "stream",
     "text": [
      "(5, <tf.Tensor: shape=(5,), dtype=int64, numpy=array([1, 6, 3, 2, 4], dtype=int64)>, <tf.Tensor: shape=(5,), dtype=int64, numpy=array([1, 0, 0, 0, 0], dtype=int64)>)\n"
     ]
    }
   ],
   "source": [
    "single_training_data = (target, full_context, label)\n",
    "print(single_training_data)"
   ]
  },
  {
   "attachments": {},
   "cell_type": "markdown",
   "metadata": {},
   "source": [
    "### Get the Dataset"
   ]
  },
  {
   "cell_type": "code",
   "execution_count": 29,
   "metadata": {},
   "outputs": [
    {
     "name": "stdout",
     "output_type": "stream",
     "text": [
      "Downloading data from https://storage.googleapis.com/download.tensorflow.org/data/shakespeare.txt\n",
      "1115394/1115394 [==============================] - 0s 0us/step\n"
     ]
    }
   ],
   "source": [
    "filepath = utils.get_file(\"shakespeare.txt\", \"https://storage.googleapis.com/download.tensorflow.org/data/shakespeare.txt\")"
   ]
  },
  {
   "cell_type": "code",
   "execution_count": 30,
   "metadata": {},
   "outputs": [
    {
     "name": "stdout",
     "output_type": "stream",
     "text": [
      "First Citizen:\n",
      "Before we proceed any further, hear me speak.\n",
      "\n",
      "All:\n",
      "Speak, speak.\n",
      "\n",
      "First Citizen:\n",
      "You are all resolved rather to die than to famish?\n",
      "\n",
      "All:\n",
      "Resolved. resolved.\n",
      "\n",
      "First Citizen:\n",
      "First, you know Caius Marcius is chief enemy to the people.\n",
      "\n",
      "All:\n",
      "We know't, we know't.\n",
      "\n",
      "First Citizen:\n",
      "Let us kill him, and we'll have corn at our own price.\n"
     ]
    }
   ],
   "source": [
    "with open(filepath) as f:\n",
    "    lines = f.read().splitlines()\n",
    "\n",
    "for line in lines[:20]:\n",
    "    print(line)"
   ]
  },
  {
   "cell_type": "code",
   "execution_count": 31,
   "metadata": {},
   "outputs": [],
   "source": [
    "text_dataset = tf.data.TextLineDataset(filepath).filter(lambda x: tf.cast(tf.strings.length(x), bool))"
   ]
  },
  {
   "attachments": {},
   "cell_type": "markdown",
   "metadata": {},
   "source": [
    "### Generate training data "
   ]
  },
  {
   "cell_type": "code",
   "execution_count": 44,
   "metadata": {},
   "outputs": [],
   "source": [
    "from keras.preprocessing.sequence import make_sampling_table\n",
    "\n",
    "def GenerateTrainingData(sequences, window_size, num_ns, vocab_size, seed):\n",
    "    targets, contexts, labels = [], [], []\n",
    "\n",
    "    # Generate sampling table\n",
    "    sampling_table = make_sampling_table(vocab_size)\n",
    "\n",
    "    # Go through all sequences in the dataset\n",
    "    for sequence in tqdm.tqdm(sequences):\n",
    "        # Get the positive skipgrams\n",
    "        positive_skipgrams, _ = skipgrams(sequence, vocabulary_size=vocab_size, sampling_table=sampling_table, window_size=window_size, negative_samples=0)\n",
    "\n",
    "        # get negative samples aswel\n",
    "        for target, context in positive_skipgrams:\n",
    "            context_class = tf.expand_dims(tf.constant([context], dtype=\"int64\"), 1)\n",
    "            negative_sampling_candidates, _, _ = tf.random.log_uniform_candidate_sampler(\n",
    "                true_classes=context_class,\n",
    "                num_true=1,\n",
    "                num_sampled=num_ns,\n",
    "                unique=True,\n",
    "                range_max=vocab_size,\n",
    "                seed=seed,\n",
    "                name=\"negative_sampling\"\n",
    "            )\n",
    "\n",
    "            # construct training data\n",
    "            full_context = tf.concat([tf.squeeze(context_class, 1), negative_sampling_candidates], 0)\n",
    "            label = tf.constant([1] + [0] * num_ns, dtype=\"int64\")\n",
    "\n",
    "            # return training data\n",
    "            targets.append(target)\n",
    "            contexts.append(full_context)\n",
    "            labels.append(label)\n",
    "    \n",
    "    return targets, contexts, labels"
   ]
  },
  {
   "attachments": {},
   "cell_type": "markdown",
   "metadata": {},
   "source": [
    "### Sentence Vectorization"
   ]
  },
  {
   "cell_type": "code",
   "execution_count": 32,
   "metadata": {},
   "outputs": [],
   "source": [
    "def CustomStandardization(input_data):\n",
    "    lowercase = tf.strings.lower(input_data)\n",
    "    return tf.strings.regex_replace(lowercase, \"[%s]\" % re.escape(string.punctuation), \"\")\n",
    "\n",
    "VOCAB_SIZE = 4096\n",
    "SEQUENCE_LENGTH = 10\n",
    "\n",
    "vectorization_layer = layers.TextVectorization(standardize=CustomStandardization, max_tokens=VOCAB_SIZE, output_mode=\"int\", output_sequence_length=SEQUENCE_LENGTH)\n",
    "vectorization_layer.adapt(text_dataset.batch(1024))"
   ]
  },
  {
   "cell_type": "code",
   "execution_count": 33,
   "metadata": {},
   "outputs": [
    {
     "name": "stdout",
     "output_type": "stream",
     "text": [
      "['', '[UNK]', 'the', 'and', 'to', 'i', 'of', 'you', 'my', 'a', 'that', 'in', 'is', 'not', 'for', 'with', 'me', 'it', 'be', 'your']\n"
     ]
    }
   ],
   "source": [
    "inverse_vocab = vectorization_layer.get_vocabulary()\n",
    "print(inverse_vocab[:20])"
   ]
  },
  {
   "cell_type": "code",
   "execution_count": 35,
   "metadata": {},
   "outputs": [
    {
     "name": "stdout",
     "output_type": "stream",
     "text": [
      "32777\n",
      "[ 89 270   0   0   0   0   0   0   0   0] => ['first', 'citizen', '', '', '', '', '', '', '', '']\n",
      "[138  36 982 144 673 125  16 106   0   0] => ['before', 'we', 'proceed', 'any', 'further', 'hear', 'me', 'speak', '', '']\n",
      "[34  0  0  0  0  0  0  0  0  0] => ['all', '', '', '', '', '', '', '', '', '']\n",
      "[106 106   0   0   0   0   0   0   0   0] => ['speak', 'speak', '', '', '', '', '', '', '', '']\n",
      "[ 89 270   0   0   0   0   0   0   0   0] => ['first', 'citizen', '', '', '', '', '', '', '', '']\n",
      "[   7   41   34 1286  344    4  200   64    4 3690] => ['you', 'are', 'all', 'resolved', 'rather', 'to', 'die', 'than', 'to', 'famish']\n",
      "[34  0  0  0  0  0  0  0  0  0] => ['all', '', '', '', '', '', '', '', '', '']\n",
      "[1286 1286    0    0    0    0    0    0    0    0] => ['resolved', 'resolved', '', '', '', '', '', '', '', '']\n",
      "[ 89 270   0   0   0   0   0   0   0   0] => ['first', 'citizen', '', '', '', '', '', '', '', '']\n",
      "[  89    7   93 1187  225   12 2442  592    4    2] => ['first', 'you', 'know', 'caius', 'marcius', 'is', 'chief', 'enemy', 'to', 'the']\n"
     ]
    }
   ],
   "source": [
    "text_vector_dataset = text_dataset.batch(1024).prefetch(AUTOTUNE).map(vectorization_layer).unbatch()\n",
    "sequences = list(text_vector_dataset.as_numpy_iterator())\n",
    "print(len(sequences))\n",
    "\n",
    "for seq in sequences[:10]:\n",
    "    print(f\"{seq} => {[inverse_vocab[i] for i in seq]}\")"
   ]
  },
  {
   "attachments": {},
   "cell_type": "markdown",
   "metadata": {},
   "source": [
    "### Generate training data"
   ]
  },
  {
   "cell_type": "code",
   "execution_count": 46,
   "metadata": {},
   "outputs": [
    {
     "name": "stderr",
     "output_type": "stream",
     "text": [
      "100%|██████████| 32777/32777 [00:12<00:00, 2658.72it/s]\n"
     ]
    },
    {
     "name": "stdout",
     "output_type": "stream",
     "text": [
      "[ 270   89  982 ... 1049 1049 1874]\n",
      "[[  89   45 1468   18  671]\n",
      " [ 270    0  279    4 2861]\n",
      " [  36  564   30    1   42]\n",
      " ...\n",
      " [ 129   31    1   21  370]\n",
      " [  26    4   52 2271  437]\n",
      " [ 129  182  214  121   53]]\n",
      "[[1 0 0 0 0]\n",
      " [1 0 0 0 0]\n",
      " [1 0 0 0 0]\n",
      " ...\n",
      " [1 0 0 0 0]\n",
      " [1 0 0 0 0]\n",
      " [1 0 0 0 0]]\n"
     ]
    }
   ],
   "source": [
    "targets, contexts, labels = GenerateTrainingData(sequences=sequences, window_size=2, num_ns=4, vocab_size=VOCAB_SIZE, seed=SEED)\n",
    "\n",
    "targets = np.array(targets)\n",
    "contexts = np.array(contexts)\n",
    "labels = np.array(labels)\n",
    "\n",
    "print(targets)\n",
    "print(contexts)\n",
    "print(labels)"
   ]
  },
  {
   "attachments": {},
   "cell_type": "markdown",
   "metadata": {},
   "source": [
    "### Configuring the Dataset for performance"
   ]
  },
  {
   "cell_type": "code",
   "execution_count": 49,
   "metadata": {},
   "outputs": [
    {
     "name": "stdout",
     "output_type": "stream",
     "text": [
      "<PrefetchDataset element_spec=((TensorSpec(shape=(1024,), dtype=tf.int64, name=None), TensorSpec(shape=(1024, 5), dtype=tf.int64, name=None)), TensorSpec(shape=(1024, 5), dtype=tf.int64, name=None))>\n"
     ]
    }
   ],
   "source": [
    "BATCH_SIZE = 1024\n",
    "BUFFER_SIZE = 10000\n",
    "\n",
    "dataset = tf.data.Dataset.from_tensor_slices(((targets, contexts), labels))\n",
    "dataset = dataset.shuffle(BUFFER_SIZE).batch(BATCH_SIZE, drop_remainder=True)\n",
    "dataset = dataset.cache().prefetch(buffer_size=AUTOTUNE)\n",
    "\n",
    "print(dataset)"
   ]
  },
  {
   "attachments": {},
   "cell_type": "markdown",
   "metadata": {},
   "source": [
    "### Word2Vec Model"
   ]
  },
  {
   "cell_type": "code",
   "execution_count": 50,
   "metadata": {},
   "outputs": [],
   "source": [
    "class Word2Vec(keras.Model):\n",
    "    def __init__(self, vocab_size, embedding_dim):\n",
    "        super(Word2Vec, self).__init__()\n",
    "\n",
    "        self.targeting_embedding = layers.Embedding(vocab_size, embedding_dim, input_length=1, name=\"w2v_embedding\")\n",
    "        self.context_embedding = layers.Embedding(vocab_size, embedding_dim, input_length=num_ns + 1)\n",
    "\n",
    "    def call(self, pair):\n",
    "        target, context = pair\n",
    "\n",
    "        if len(target.shape) == 2:\n",
    "            target = tf.squeeze(target, axis=1)\n",
    "        \n",
    "        word_embedding = self.targeting_embedding(target)\n",
    "        context_embedding = self.context_embedding(context)\n",
    "\n",
    "        dots = tf.einsum(\"be,bce->bc\", word_embedding, context_embedding)\n",
    "\n",
    "        return dots\n",
    "    "
   ]
  },
  {
   "attachments": {},
   "cell_type": "markdown",
   "metadata": {},
   "source": [
    "### Defining the Loss"
   ]
  },
  {
   "cell_type": "code",
   "execution_count": 51,
   "metadata": {},
   "outputs": [],
   "source": [
    "def W2VLoss(x_logit, y_true):\n",
    "    return tf.nn.sigmoid_cross_entropy_with_logits(logits=x_logit, labels=y_true)"
   ]
  },
  {
   "attachments": {},
   "cell_type": "markdown",
   "metadata": {},
   "source": [
    "### Compling the Model + Summary"
   ]
  },
  {
   "cell_type": "code",
   "execution_count": 56,
   "metadata": {},
   "outputs": [],
   "source": [
    "from keras import losses\n",
    "\n",
    "embedding_dim = 128\n",
    "word2vec = Word2Vec(VOCAB_SIZE, embedding_dim=embedding_dim)\n",
    "word2vec.compile(optimizer=\"adam\", loss=losses.CategoricalCrossentropy(from_logits=True), metrics=[\"accuracy\"])"
   ]
  },
  {
   "cell_type": "code",
   "execution_count": 61,
   "metadata": {},
   "outputs": [],
   "source": [
    "tensorboard_callback = keras.callbacks.TensorBoard(log_dir=\"logs\")"
   ]
  },
  {
   "attachments": {},
   "cell_type": "markdown",
   "metadata": {},
   "source": [
    "### Training"
   ]
  },
  {
   "cell_type": "code",
   "execution_count": 60,
   "metadata": {},
   "outputs": [
    {
     "name": "stdout",
     "output_type": "stream",
     "text": [
      "Epoch 1/20\n",
      "63/63 [==============================] - 1s 14ms/step - loss: 0.4387 - accuracy: 0.9016\n",
      "Epoch 2/20\n",
      "63/63 [==============================] - 1s 14ms/step - loss: 0.4135 - accuracy: 0.9087\n",
      "Epoch 3/20\n",
      "63/63 [==============================] - 1s 15ms/step - loss: 0.3906 - accuracy: 0.9149\n",
      "Epoch 4/20\n",
      "63/63 [==============================] - 1s 15ms/step - loss: 0.3697 - accuracy: 0.9203\n",
      "Epoch 5/20\n",
      "63/63 [==============================] - 1s 14ms/step - loss: 0.3506 - accuracy: 0.9255\n",
      "Epoch 6/20\n",
      "63/63 [==============================] - 1s 14ms/step - loss: 0.3332 - accuracy: 0.9299\n",
      "Epoch 7/20\n",
      "63/63 [==============================] - 1s 13ms/step - loss: 0.3172 - accuracy: 0.9338\n",
      "Epoch 8/20\n",
      "63/63 [==============================] - 1s 14ms/step - loss: 0.3025 - accuracy: 0.9374\n",
      "Epoch 9/20\n",
      "63/63 [==============================] - 1s 15ms/step - loss: 0.2890 - accuracy: 0.9404\n",
      "Epoch 10/20\n",
      "63/63 [==============================] - 1s 14ms/step - loss: 0.2766 - accuracy: 0.9432\n",
      "Epoch 11/20\n",
      "63/63 [==============================] - 1s 14ms/step - loss: 0.2652 - accuracy: 0.9457\n",
      "Epoch 12/20\n",
      "63/63 [==============================] - 1s 14ms/step - loss: 0.2546 - accuracy: 0.9478\n",
      "Epoch 13/20\n",
      "63/63 [==============================] - 1s 14ms/step - loss: 0.2449 - accuracy: 0.9497\n",
      "Epoch 14/20\n",
      "63/63 [==============================] - 1s 14ms/step - loss: 0.2358 - accuracy: 0.9513\n",
      "Epoch 15/20\n",
      "63/63 [==============================] - 1s 14ms/step - loss: 0.2274 - accuracy: 0.9527\n",
      "Epoch 16/20\n",
      "63/63 [==============================] - 1s 14ms/step - loss: 0.2196 - accuracy: 0.9541\n",
      "Epoch 17/20\n",
      "63/63 [==============================] - 1s 14ms/step - loss: 0.2124 - accuracy: 0.9555\n",
      "Epoch 18/20\n",
      "63/63 [==============================] - 1s 14ms/step - loss: 0.2056 - accuracy: 0.9566\n",
      "Epoch 19/20\n",
      "63/63 [==============================] - 1s 15ms/step - loss: 0.1993 - accuracy: 0.9577\n",
      "Epoch 20/20\n",
      "63/63 [==============================] - 1s 14ms/step - loss: 0.1934 - accuracy: 0.9586\n"
     ]
    },
    {
     "data": {
      "text/plain": [
       "<keras.callbacks.History at 0x2498bd06920>"
      ]
     },
     "execution_count": 60,
     "metadata": {},
     "output_type": "execute_result"
    }
   ],
   "source": [
    "word2vec.fit(dataset, epochs=20, callbacks=[tensorboard_callback])"
   ]
  },
  {
   "cell_type": "code",
   "execution_count": null,
   "metadata": {},
   "outputs": [],
   "source": [
    "%tensorboard --logdir logs"
   ]
  },
  {
   "attachments": {},
   "cell_type": "markdown",
   "metadata": {},
   "source": [
    "### Get Predictions"
   ]
  },
  {
   "cell_type": "code",
   "execution_count": 64,
   "metadata": {},
   "outputs": [],
   "source": [
    "weights = word2vec.get_layer(\"w2v_embedding\").get_weights()[0]\n",
    "vocab = vectorization_layer.get_vocabulary()\n",
    "\n",
    "out_vectors = io.open(\"vectors.tsv\", \"w\", encoding=\"utf-8\")\n",
    "out_metadata = io.open(\"metadata.tsv\", \"w\", encoding=\"utf-8\")\n",
    "\n",
    "for index, word in enumerate(vocab):\n",
    "    if index == 0:\n",
    "        continue\n",
    "\n",
    "    vector = weights[index]\n",
    "    out_vectors.write(\"\\t\".join([str(x) for x in vector]) + \"\\n\")\n",
    "    out_metadata.write(word + \"\\n\")\n",
    "\n",
    "out_vectors.close()\n",
    "out_metadata.close()"
   ]
  }
 ],
 "metadata": {
  "kernelspec": {
   "display_name": "Python 3",
   "language": "python",
   "name": "python3"
  },
  "language_info": {
   "codemirror_mode": {
    "name": "ipython",
    "version": 3
   },
   "file_extension": ".py",
   "mimetype": "text/x-python",
   "name": "python",
   "nbconvert_exporter": "python",
   "pygments_lexer": "ipython3",
   "version": "3.10.0"
  },
  "orig_nbformat": 4,
  "vscode": {
   "interpreter": {
    "hash": "cfcf893b30c834e77459660183659b067f3f21fdf2a85919e4ac9ef96b7b2952"
   }
  }
 },
 "nbformat": 4,
 "nbformat_minor": 2
}
